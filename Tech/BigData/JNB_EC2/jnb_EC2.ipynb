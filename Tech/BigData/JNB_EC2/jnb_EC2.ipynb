{
 "cells": [
  {
   "cell_type": "markdown",
   "metadata": {},
   "source": [
    "# Running Jupyter Notebook on EC2"
   ]
  },
  {
   "cell_type": "markdown",
   "metadata": {},
   "source": [
    "### <font color = 'blue'> This Tutorial is for running Jupyter Notebook on Amazon EC2 instance. This is not a beginner's tutorial but I will be explaining every step so that everyone can follow. </font>"
   ]
  },
  {
   "cell_type": "markdown",
   "metadata": {},
   "source": [
    "### Step 1 - Launch your EC2 by following the steps in this blog - :\n",
    "\n"
   ]
  },
  {
   "cell_type": "markdown",
   "metadata": {},
   "source": [
    "### <font color = 'red'> When Instance is launched, make sure you have something like the following screen: </font>\n",
    "\n",
    "\n",
    "![title](Capture1.PNG)"
   ]
  },
  {
   "cell_type": "markdown",
   "metadata": {},
   "source": [
    "### <font color = 'red'> Also make sure that Anaconda is installed on your instance by typing: </font>\n",
    "#### - \"which python /home/ubuntu/anaconda3/bin/python\" on the terminal\n",
    "#### It will show you the following output\n",
    "\n",
    "\n",
    "![title](Capture2.PNG)"
   ]
  },
  {
   "cell_type": "markdown",
   "metadata": {},
   "source": [
    "### Step 2 - Now follow the following steps for creating password of your Jupyter Notebook:\n",
    "#### - run these commands one by one on the terminal:\n",
    "#### - ipython\n",
    "#### - from IPython.lib import passwd\n",
    "#### - passwd()\n",
    "#### - Enter password: (Write your password here)\n",
    "#### - Verify your password\n",
    "#### - <font color = 'red'> Terminal will show something like this - 'sha1:98ff0e580111:12798c72623a6eecd54b51c006b1050f0ac1a62d' [save this output somewhere else] </font>\n",
    "#### - exit"
   ]
  },
  {
   "cell_type": "markdown",
   "metadata": {},
   "source": [
    "### Step 3 - Create a config file by running following command on terminal:\n",
    "\n",
    "#### - jupyter notebook --generate-config\n",
    "\n",
    "### <font color = 'blue'> Now lets create http certificates by runing following commands one by one on terminal: </font>\n",
    "\n",
    "#### - mkdir certs\n",
    "#### - cd certs\n",
    "#### - sudo openssl req -x509 -nodes -days 365 -newkey rsa:1024 -keyout mycert.pem -out mycert.pem\n",
    "#### - Now few questions will be asked from you, answer them as you want\n"
   ]
  },
  {
   "cell_type": "markdown",
   "metadata": {},
   "source": [
    "### Step 4 - Configuring Jupyter\n",
    "\n",
    "#### - Go to \"cd ~/.jupyter\" using terminal\n",
    "#### - edit it by using \"vi jupyter_notebook.config.py\" on terminal or copy this file to your computer for editing using any online software such as FileZilla\n",
    "#### - <font color = 'blue'> Insert following lines at the top of the document: </font>\n",
    "#### - c = get_config() \n",
    "#### - c.IPKernelApp.pylab = 'inline'  # if you want plotting support always in your notebook\n",
    "#### - c.NotebookApp.certfile = u'/home/ubuntu/certs/mycert.pem' #location of your certificate file\n",
    "#### - c.NotebookApp.ip = '0.0.0.0'\n",
    "#### - c.NotebookApp.open_browser = False  #so that the ipython notebook does not opens up a browser by default\n",
    "#### - c.NotebookApp.password = u'sha1:98ff0e580111:12798c72623a6eecd54b51c006b1050f0ac1a62d'  [change this with your password that you saved in Step 2]\n",
    "#### - c.NotebookApp.port = 8888\n",
    "\n",
    "### <font color = 'red'> Exit the file </font>"
   ]
  },
  {
   "cell_type": "markdown",
   "metadata": {},
   "source": [
    "### Step 5 - Starting Jupyter Notebook\n",
    "\n",
    "#### <font color = 'blue'> Create folder for your notebooks by writing following commands on terminal: </font\n",
    "#### - cd ~\n",
    "#### - mkdir Notebooks\n",
    "#### - cd Notebooks\n",
    "\n",
    "### <font color = 'red'> Now just write \"jupyter notebook\" on the terminal </font>\n",
    "\n",
    "#### - Terminal will look something like this:\n",
    "\n",
    "![title](Capture3.PNG)\n"
   ]
  },
  {
   "cell_type": "markdown",
   "metadata": {},
   "source": [
    "### <font color = 'blue'> Now open a browser and write: </font>\n",
    "#### - https://[Your Public DNS]:8888/ [change your public DNS here] \n",
    "#### - It will end up looking like this - https://ec2-54-160-17-108.compute-1.amazonaws.com:8888/\n",
    "#### - You can get your public DNS from your instance page while it is running, shown as follows:\n",
    "\n",
    "![title](Capture4.PNG)"
   ]
  },
  {
   "cell_type": "markdown",
   "metadata": {},
   "source": [
    "### <font color = 'green'> Now you will be able to use Jupyter Notebook on EC2 instance - Congrats :) </font>"
   ]
  },
  {
   "cell_type": "code",
   "execution_count": null,
   "metadata": {},
   "outputs": [],
   "source": []
  }
 ],
 "metadata": {
  "kernelspec": {
   "display_name": "Python 3",
   "language": "python",
   "name": "python3"
  },
  "language_info": {
   "codemirror_mode": {
    "name": "ipython",
    "version": 3
   },
   "file_extension": ".py",
   "mimetype": "text/x-python",
   "name": "python",
   "nbconvert_exporter": "python",
   "pygments_lexer": "ipython3",
   "version": "3.6.7"
  }
 },
 "nbformat": 4,
 "nbformat_minor": 2
}
