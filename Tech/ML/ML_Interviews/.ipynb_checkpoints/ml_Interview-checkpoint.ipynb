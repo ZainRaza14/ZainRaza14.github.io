{
 "cells": [
  {
   "cell_type": "markdown",
   "metadata": {},
   "source": [
    "## Machine Learning Interview Questions\n"
   ]
  },
  {
   "cell_type": "code",
   "execution_count": null,
   "metadata": {},
   "outputs": [],
   "source": []
  },
  {
   "cell_type": "markdown",
   "metadata": {},
   "source": [
    "### Question #1 \n",
    "\n",
    "### Difference between Supervised and Unsupervised Learning ?\n",
    "\n",
    "### Answer:\n",
    "\n",
    "### Supervised learning is when each example of dataset is labeled. For example, in classifying between a dog and cat, each training example will mention the label that whether it is a cat or a dog. \n",
    "### On the other hand, in Unsupervised learning each example has no such label. Clustering is a technique which is most widely used in unsupervised learning tasks to group data points which have the same attributes. \n",
    "\n",
    "### A detailed list of algorithms within Supervised and Unsupervised domains can be found as following:\n",
    "\n",
    "<img src=\"supVSunsup.PNG\">\n"
   ]
  },
  {
   "cell_type": "code",
   "execution_count": null,
   "metadata": {},
   "outputs": [],
   "source": []
  },
  {
   "cell_type": "markdown",
   "metadata": {},
   "source": [
    "### Question #2\n",
    "\n",
    "### What is Semi-supervised Learning?\n",
    "\n",
    "### Answer:\n",
    "\n",
    "### In this type of learning, dataset consists of a small amount of labeled data while rest of dataset is un-labeled. It is challenging to label large data sets as it requires human supervision. Semi-supervised helps in this aspect because it can learn from few labeled examples and then label rest of the un-labeled examples. \n",
    "\n",
    "### Different methods are used in this type of learning such as Generative, Low-density separation, Graph-based, Heuristic approaches etc.\n"
   ]
  },
  {
   "cell_type": "code",
   "execution_count": null,
   "metadata": {},
   "outputs": [],
   "source": []
  },
  {
   "cell_type": "markdown",
   "metadata": {},
   "source": [
    "### Question #3\n",
    "\n",
    "### What is Reinforcement Learning?\n",
    "\n",
    "### Answer:\n",
    "\n",
    "### It is a type of learning which involves taking actions within an environment and getting a reward plus environment state as a result of each action. With each feedback received, the model updates itself to maximize rewards in future actions. \n",
    "\n",
    "<img src=\"RL.PNG\" alt=\"Drawing\" style=\"width: 500px;\"/>\n"
   ]
  },
  {
   "cell_type": "code",
   "execution_count": null,
   "metadata": {},
   "outputs": [],
   "source": []
  },
  {
   "cell_type": "markdown",
   "metadata": {},
   "source": [
    "### Question #4\n",
    "\n",
    "### What is Deep Learning?\n",
    "\n",
    "### Answer:\n",
    "\n",
    "### It is a sub-field of machine learning which is concerned with algorithms and models inspired by artificial neural networks.\n",
    "\n",
    "### Example - Convolutional Neural Networks, Recurrent Neural Networks etc."
   ]
  },
  {
   "cell_type": "code",
   "execution_count": null,
   "metadata": {},
   "outputs": [],
   "source": []
  },
  {
   "cell_type": "markdown",
   "metadata": {},
   "source": [
    "### Question #5\n",
    "\n",
    "### What is Self-Supervised Learning?\n",
    "\n",
    "\n",
    "### Answer:\n",
    "\n",
    "### Self-supervised is a sub-set of unsupervised learning. It can learn from itself by learning intrinsic properties. It can generate output labels from input data if given a relation between parts of the object.\n",
    "\n",
    "### Example, can be of predicting missing word if given context of sentence. Another example can be of an image which modified itself as input and model has to predict what changed. "
   ]
  },
  {
   "cell_type": "code",
   "execution_count": null,
   "metadata": {},
   "outputs": [],
   "source": []
  },
  {
   "cell_type": "markdown",
   "metadata": {},
   "source": [
    "### Question #6\n",
    "\n",
    "### What is difference between Generative Models and Discriminative Models?\n",
    "\n",
    "### Answer:\n",
    "\n",
    "### Generative models learn the actual distribution of each class. It uses joint probability distribution to achieve this. Example algorithms are of Naive Bayes, Bayesian networks, Hidden Markov Models etc.\n",
    "\n",
    "### Discriminative models learn the decision boundary between classes. It uses conditional probability distribution to achieve this. Example algorithms are of Logistic regression, Scalar Vector Machine, Neural Networks etc. \n",
    "\n",
    "<img src=\"genVSdisc.PNG\" alt=\"Drawing\" style=\"width: 500px;\">"
   ]
  },
  {
   "cell_type": "code",
   "execution_count": null,
   "metadata": {},
   "outputs": [],
   "source": []
  },
  {
   "cell_type": "markdown",
   "metadata": {},
   "source": [
    "### Question #7\n",
    "\n",
    "### What is the difference between bias and variance ?\n",
    "\n",
    "### Answer:\n",
    "\n",
    "### Bias is the difference between prediction of our model and the actual values, which can be summarized as the inability of our model to capture the true relationship. High bias usually results in underfitting as our model is oversimplified in this case. \n",
    "\n",
    "### Variance is the variability of model prediction for a given data which tells us the spread of data. High variance usually results in overfitting as our model does not generalize enough.\n",
    "\n",
    "### Bias/Variance tradeoff is an important concept here as we want to find optimal balance so that our model don't overfit or underfit.\n",
    "\n",
    "<img src=\"biasVSvariance.PNG\">"
   ]
  },
  {
   "cell_type": "code",
   "execution_count": null,
   "metadata": {},
   "outputs": [],
   "source": []
  },
  {
   "cell_type": "markdown",
   "metadata": {},
   "source": [
    "### Question #8\n",
    "\n",
    "### What is Linear Regression?\n",
    "\n",
    "### Answer:\n",
    "\n",
    "### Linear regression is a linear approach to model a relationship between dependent and independent variables by fitting a line between them. \n",
    "\n",
    "### Mathematically, it can be represented with an equation as follow:\n",
    "\n",
    "###                                                                       y = wx + b ; where b is bias, x is input vector, y is output vector and w is weight\n",
    "\n",
    "### There are different methods used in linear regression such as least square regression, LASSO and least absolute deviations. Algorithms used to complete these methods can be Analytical Solution, Gradient Descent and Conjugate Gradient.\n",
    "\n",
    "### This image shows a straight line using linear regression that fits between different data points. \n",
    "\n",
    "\n",
    "<img src=\"linearRegression.PNG\" alt=\"Drawing\" style=\"width: 500px;\"/>"
   ]
  },
  {
   "cell_type": "code",
   "execution_count": null,
   "metadata": {},
   "outputs": [],
   "source": []
  },
  {
   "cell_type": "markdown",
   "metadata": {},
   "source": [
    "### Question #9\n",
    "\n",
    "### What is Logistic Regression?\n",
    "\n",
    "### Answer:\n",
    "\n"
   ]
  },
  {
   "cell_type": "code",
   "execution_count": null,
   "metadata": {},
   "outputs": [],
   "source": []
  },
  {
   "cell_type": "markdown",
   "metadata": {},
   "source": [
    "### References:\n",
    "    \n",
    "#### Image - Question #1 - http://www.differencebetween.net/technology/differences-between-supervised-learning-and-unsupervised-learning/\n",
    "\n",
    "#### Image - Question #3 - https://www.researchgate.net/figure/Reinforcement-Learning-Agent-and-Environment_fig2_323867253\n",
    "\n",
    "#### Image - Question #6 - https://medium.com/@akankshamalhotra24/generative-classifiers-v-s-discriminative-classifiers-1045f499d8cc\n",
    "\n",
    "#### Image - Question #7 - https://towardsdatascience.com/understanding-the-bias-variance-tradeoff-165e6942b229"
   ]
  },
  {
   "cell_type": "code",
   "execution_count": null,
   "metadata": {},
   "outputs": [],
   "source": []
  }
 ],
 "metadata": {
  "kernelspec": {
   "display_name": "Python 3",
   "language": "python",
   "name": "python3"
  },
  "language_info": {
   "codemirror_mode": {
    "name": "ipython",
    "version": 3
   },
   "file_extension": ".py",
   "mimetype": "text/x-python",
   "name": "python",
   "nbconvert_exporter": "python",
   "pygments_lexer": "ipython3",
   "version": "3.6.7"
  }
 },
 "nbformat": 4,
 "nbformat_minor": 2
}
